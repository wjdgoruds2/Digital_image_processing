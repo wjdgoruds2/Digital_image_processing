{
  "nbformat": 4,
  "nbformat_minor": 0,
  "metadata": {
    "colab": {
      "name": "MNISTdata.ipynb",
      "provenance": [],
      "authorship_tag": "ABX9TyOkZGYAoBsdc7A6D9y6dieA",
      "include_colab_link": true
    },
    "kernelspec": {
      "name": "python3",
      "display_name": "Python 3"
    },
    "language_info": {
      "name": "python"
    },
    "accelerator": "GPU"
  },
  "cells": [
    {
      "cell_type": "markdown",
      "metadata": {
        "id": "view-in-github",
        "colab_type": "text"
      },
      "source": [
        "<a href=\"https://colab.research.google.com/github/wjdgoruds2/Digital_image_processing/blob/main/VGG16_Transfer_Learning.ipynb\" target=\"_parent\"><img src=\"https://colab.research.google.com/assets/colab-badge.svg\" alt=\"Open In Colab\"/></a>"
      ]
    },
    {
      "cell_type": "code",
      "metadata": {
        "colab": {
          "base_uri": "https://localhost:8080/"
        },
        "id": "wYcDAwwXMpEl",
        "outputId": "6397c605-23de-441a-e93f-561349645f04"
      },
      "source": [
        "import os\n",
        "\n",
        "import matplotlib.pyplot as plt\n",
        "import numpy as np\n",
        "\n",
        "from tensorflow.keras import optimizers\n",
        "from tensorflow.keras import models\n",
        "from tensorflow.keras import layers\n",
        "from tensorflow.keras import optimizers\n",
        "from tensorflow.keras.models import Sequential\n",
        "from tensorflow.keras.layers import Dropout, Flatten, Dense\n",
        "from tensorflow.keras.models import Model\n",
        "from tensorflow.keras.preprocessing.image import ImageDataGenerator\n",
        "from tensorflow.keras.preprocessing.image import load_img\n",
        "from tensorflow.keras.preprocessing.image import img_to_array\n",
        "\n",
        "from tensorflow.keras.applications import vgg16\n",
        "from tensorflow.keras.applications import VGG16\n",
        "\n",
        "\n",
        "conv_layers = VGG16(weights='imagenet', include_top=False, input_shape=(224, 224, 3))\n",
        "conv_layers.trainable = False\n",
        "\n",
        "model = models.Sequential()\n",
        "\n",
        "model.add(conv_layers)\n",
        "model.add(layers.Flatten())\n",
        "model.add(layers.Dense(1024, activation='relu'))\n",
        "model.add(layers.Dropout(0.5))\n",
        "model.add(layers.Dense(10, activation='softmax'))\n",
        "\n",
        "model.compile(loss='sparse_categorical_crossentropy', optimizer=\"RMSprop\", metrics=['acc'])\n",
        "\n",
        "\n",
        "BATCH_SIZE = 64\n",
        "\n",
        "train_data_generator = ImageDataGenerator(\n",
        "      rotation_range=10,\n",
        "      width_shift_range=0.1,\n",
        "      height_shift_range=0.1,\n",
        "      horizontal_flip=True,\n",
        "      vertical_flip=False,\n",
        "      preprocessing_function=vgg16.preprocess_input\n",
        ").flow_from_directory(\n",
        "      \"dogs_prepared/train\",\n",
        "      target_size=(224,224),\n",
        "      batch_size=BATCH_SIZE,\n",
        "      class_mode='sparse'\n",
        ")\n",
        "\n",
        "test_data_generator = ImageDataGenerator(\n",
        "      preprocessing_function=vgg16.preprocess_input\n",
        ").flow_from_directory(\n",
        "      \"dogs_prepared/test\",\n",
        "      target_size=(224,224),\n",
        "      batch_size=BATCH_SIZE,\n",
        "      class_mode='sparse'\n",
        ")\n",
        "\n",
        "\n",
        "model.fit_generator(\n",
        "      train_data_generator,\n",
        "      validation_data=test_data_generator,\n",
        "      steps_per_epoch=train_data_generator.samples/BATCH_SIZE,  \n",
        "      validation_steps=test_data_generator.samples/BATCH_SIZE,      \n",
        "      epochs=10\n",
        ")\n",
        "\n",
        "loss, acc = model.evaluate_generator(\n",
        "      test_data_generator,\n",
        "      steps=test_data_generator.samples/BATCH_SIZE\n",
        ")\n",
        "print(\"loss=\", loss)\n",
        "print(\"acc=\", acc)\n",
        "\n",
        "y_ = model.predict_generator(\n",
        "      test_data_generator,\n",
        "      steps=test_data_generator.samples/BATCH_SIZE\n",
        ")\n",
        "\n",
        "custom_labels = list(test_data_generator.class_indices.keys()) # ADDED\n",
        "predicted = np.argmax(y_, axis=1)\n",
        "print(\"predicted category index =\", predicted[0])\n",
        "print(\"predicted category name =\", custom_labels[predicted[0]])\n"
      ],
      "execution_count": 18,
      "outputs": [
        {
          "output_type": "stream",
          "text": [
            "Downloading data from https://storage.googleapis.com/tensorflow/keras-applications/vgg16/vgg16_weights_tf_dim_ordering_tf_kernels_notop.h5\n",
            "58892288/58889256 [==============================] - 1s 0us/step\n",
            "Found 1531 images belonging to 10 classes.\n",
            "Found 388 images belonging to 10 classes.\n"
          ],
          "name": "stdout"
        },
        {
          "output_type": "stream",
          "text": [
            "/usr/local/lib/python3.7/dist-packages/tensorflow/python/keras/engine/training.py:1844: UserWarning: `Model.fit_generator` is deprecated and will be removed in a future version. Please use `Model.fit`, which supports generators.\n",
            "  warnings.warn('`Model.fit_generator` is deprecated and '\n"
          ],
          "name": "stderr"
        },
        {
          "output_type": "stream",
          "text": [
            "Epoch 1/10\n",
            "23/23 [==============================] - 32s 1s/step - loss: 271.9142 - acc: 0.3527 - val_loss: 8.1894 - val_acc: 0.8299\n",
            "Epoch 2/10\n",
            "23/23 [==============================] - 22s 929ms/step - loss: 12.3870 - acc: 0.7854 - val_loss: 6.2340 - val_acc: 0.8119\n",
            "Epoch 3/10\n",
            "23/23 [==============================] - 22s 927ms/step - loss: 6.5552 - acc: 0.8259 - val_loss: 4.1144 - val_acc: 0.8608\n",
            "Epoch 4/10\n",
            "23/23 [==============================] - 22s 925ms/step - loss: 4.5994 - acc: 0.8344 - val_loss: 3.6454 - val_acc: 0.8479\n",
            "Epoch 5/10\n",
            "23/23 [==============================] - 22s 921ms/step - loss: 3.1751 - acc: 0.8530 - val_loss: 4.3116 - val_acc: 0.8351\n",
            "Epoch 6/10\n",
            "23/23 [==============================] - 22s 925ms/step - loss: 4.5682 - acc: 0.8433 - val_loss: 4.0880 - val_acc: 0.8660\n",
            "Epoch 7/10\n",
            "23/23 [==============================] - 22s 919ms/step - loss: 3.5712 - acc: 0.8678 - val_loss: 6.5201 - val_acc: 0.8428\n",
            "Epoch 8/10\n",
            "23/23 [==============================] - 22s 921ms/step - loss: 3.9200 - acc: 0.8706 - val_loss: 4.9248 - val_acc: 0.8402\n",
            "Epoch 9/10\n",
            "23/23 [==============================] - 22s 930ms/step - loss: 3.0809 - acc: 0.8856 - val_loss: 5.1889 - val_acc: 0.8763\n",
            "Epoch 10/10\n",
            "23/23 [==============================] - 22s 921ms/step - loss: 2.8552 - acc: 0.9107 - val_loss: 5.0177 - val_acc: 0.8531\n"
          ],
          "name": "stdout"
        },
        {
          "output_type": "stream",
          "text": [
            "/usr/local/lib/python3.7/dist-packages/tensorflow/python/keras/engine/training.py:1877: UserWarning: `Model.evaluate_generator` is deprecated and will be removed in a future version. Please use `Model.evaluate`, which supports generators.\n",
            "  warnings.warn('`Model.evaluate_generator` is deprecated and '\n"
          ],
          "name": "stderr"
        },
        {
          "output_type": "stream",
          "text": [
            "loss= 5.017651557922363\n",
            "acc= 0.8530927896499634\n"
          ],
          "name": "stdout"
        },
        {
          "output_type": "stream",
          "text": [
            "/usr/local/lib/python3.7/dist-packages/tensorflow/python/keras/engine/training.py:1905: UserWarning: `Model.predict_generator` is deprecated and will be removed in a future version. Please use `Model.predict`, which supports generators.\n",
            "  warnings.warn('`Model.predict_generator` is deprecated and '\n"
          ],
          "name": "stderr"
        },
        {
          "output_type": "stream",
          "text": [
            "predicted category index = 5\n",
            "predicted category name = n02086646-Blenheim_spaniel\n"
          ],
          "name": "stdout"
        }
      ]
    }
  ]
}