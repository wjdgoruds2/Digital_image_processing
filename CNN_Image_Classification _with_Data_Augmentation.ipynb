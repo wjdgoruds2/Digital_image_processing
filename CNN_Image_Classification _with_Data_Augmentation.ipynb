{
  "nbformat": 4,
  "nbformat_minor": 0,
  "metadata": {
    "colab": {
      "name": "MNISTdata.ipynb",
      "provenance": [],
      "authorship_tag": "ABX9TyN///v9T/Vd8SVQt83b7PkP",
      "include_colab_link": true
    },
    "kernelspec": {
      "name": "python3",
      "display_name": "Python 3"
    },
    "language_info": {
      "name": "python"
    },
    "accelerator": "GPU"
  },
  "cells": [
    {
      "cell_type": "markdown",
      "metadata": {
        "id": "view-in-github",
        "colab_type": "text"
      },
      "source": [
        "<a href=\"https://colab.research.google.com/github/wjdgoruds2/Digital_image_processing/blob/main/CNN_Image_Classification%20_with_Data_Augmentation.ipynb\" target=\"_parent\"><img src=\"https://colab.research.google.com/assets/colab-badge.svg\" alt=\"Open In Colab\"/></a>"
      ]
    },
    {
      "cell_type": "code",
      "metadata": {
        "colab": {
          "base_uri": "https://localhost:8080/"
        },
        "id": "i5QED-2-ILGh",
        "outputId": "2b408d08-a7e4-47d0-edf3-efb1e05f0185"
      },
      "source": [
        "import numpy as np\n",
        "import matplotlib.pyplot as plt\n",
        "\n",
        "import tensorflow as tf\n",
        "from tensorflow import keras\n",
        "from tensorflow.keras import optimizers\n",
        "from tensorflow.keras.layers import Dense, Flatten, Conv2D, MaxPooling2D, Input\n",
        "from tensorflow.keras.preprocessing.image import ImageDataGenerator\n",
        "from tensorflow.keras.preprocessing.image import load_img\n",
        "from tensorflow.keras.preprocessing.image import img_to_array\n",
        "\n",
        "import time\n",
        "\n",
        "\n",
        "model = keras.Sequential()\n",
        "model.add(Input((224,224,3)))\n",
        "model.add(Conv2D(32, (3, 3)))\n",
        "model.add(MaxPooling2D((2, 2)))\n",
        "model.add(Conv2D(64, (3, 3)))\n",
        "model.add(MaxPooling2D((2, 2)))\n",
        "model.add(Flatten())\n",
        "model.add(Dense(10, activation='relu'))\n",
        "model.add(Dense(10, activation='relu'))\n",
        "model.add(Dense(10, activation='softmax'))#10:카테고리 개수\n",
        "\n",
        "model.compile(optimizer=\"adam\", loss=\"sparse_categorical_crossentropy\", metrics=[\"accuracy\"])\n",
        "model.summary()\n",
        "\n",
        "BATCH_SIZE=64\n",
        "\n",
        "def preprocess_input(images):\n",
        "  return images\n",
        "  # return images/255.0\n",
        "\n",
        "#데이터 증강(조금 회전하거나 색에 변화를 주거나 조금의 변화를 줌->많은 데이터를 모을 수 있음)\n",
        "train_data_generator = ImageDataGenerator(#변화를 줌\n",
        "      rotation_range=10,#회전\n",
        "      width_shift_range=0.1,#너비 이동\n",
        "      height_shift_range=0.1,#높이 이동\n",
        "      horizontal_flip=True,\n",
        "      vertical_flip=False,\n",
        "      preprocessing_function=preprocess_input\n",
        ").flow_from_directory(\n",
        "      \"dogs_prepared/train\",\n",
        "      target_size=(224,224),#224*224로 사이즈 재설정으로 모두 사이즈가 동일하게함\n",
        "      batch_size=BATCH_SIZE,\n",
        "      class_mode='sparse'\n",
        ")\n",
        "\n",
        "test_data_generator = ImageDataGenerator(\n",
        "      preprocessing_function=preprocess_input\n",
        ").flow_from_directory(\n",
        "      \"dogs_prepared/test\",\n",
        "      target_size=(224,224),\n",
        "      batch_size=BATCH_SIZE,\n",
        "      class_mode='sparse'\n",
        ")\n",
        "\n",
        "#model.fit(train_x,train_y,.....)->이전 방식\n",
        "model.fit_generator(\n",
        "      train_data_generator,\n",
        "      validation_data=test_data_generator,\n",
        "      steps_per_epoch=train_data_generator.samples/BATCH_SIZE,  #하나의 epoch이 몇개의 step으로 되어있는지\n",
        "      validation_steps=test_data_generator.samples/BATCH_SIZE,     \n",
        "      epochs=10\n",
        ")\n",
        "\n",
        "loss, acc = model.evaluate_generator(\n",
        "      test_data_generator,\n",
        "      steps=test_data_generator.samples/BATCH_SIZE\n",
        ")\n",
        "print(\"loss=\", loss)\n",
        "print(\"acc=\", acc)\n",
        "\n",
        "y_ = model.predict_generator(\n",
        "      test_data_generator,\n",
        "      steps=test_data_generator.samples/BATCH_SIZE\n",
        ")\n",
        "\n",
        "custom_labels = list(test_data_generator.class_indices.keys()) # ADDED\n",
        "predicted = np.argmax(y_, axis=1)\n",
        "print(\"predicted category index =\", predicted[0])\n",
        "print(\"predicted category name =\", custom_labels[predicted[0]])\n"
      ],
      "execution_count": 16,
      "outputs": [
        {
          "output_type": "stream",
          "text": [
            "Model: \"sequential_2\"\n",
            "_________________________________________________________________\n",
            "Layer (type)                 Output Shape              Param #   \n",
            "=================================================================\n",
            "conv2d_2 (Conv2D)            (None, 222, 222, 32)      896       \n",
            "_________________________________________________________________\n",
            "max_pooling2d_2 (MaxPooling2 (None, 111, 111, 32)      0         \n",
            "_________________________________________________________________\n",
            "conv2d_3 (Conv2D)            (None, 109, 109, 64)      18496     \n",
            "_________________________________________________________________\n",
            "max_pooling2d_3 (MaxPooling2 (None, 54, 54, 64)        0         \n",
            "_________________________________________________________________\n",
            "flatten_2 (Flatten)          (None, 186624)            0         \n",
            "_________________________________________________________________\n",
            "dense_6 (Dense)              (None, 10)                1866250   \n",
            "_________________________________________________________________\n",
            "dense_7 (Dense)              (None, 10)                110       \n",
            "_________________________________________________________________\n",
            "dense_8 (Dense)              (None, 10)                110       \n",
            "=================================================================\n",
            "Total params: 1,885,862\n",
            "Trainable params: 1,885,862\n",
            "Non-trainable params: 0\n",
            "_________________________________________________________________\n",
            "Found 1531 images belonging to 10 classes.\n",
            "Found 388 images belonging to 10 classes.\n"
          ],
          "name": "stdout"
        },
        {
          "output_type": "stream",
          "text": [
            "/usr/local/lib/python3.7/dist-packages/tensorflow/python/keras/engine/training.py:1844: UserWarning: `Model.fit_generator` is deprecated and will be removed in a future version. Please use `Model.fit`, which supports generators.\n",
            "  warnings.warn('`Model.fit_generator` is deprecated and '\n"
          ],
          "name": "stderr"
        },
        {
          "output_type": "stream",
          "text": [
            "Epoch 1/10\n",
            "23/23 [==============================] - 21s 836ms/step - loss: 1039.8638 - accuracy: 0.1172 - val_loss: 2.3015 - val_accuracy: 0.1237\n",
            "Epoch 2/10\n",
            "23/23 [==============================] - 20s 826ms/step - loss: 2.3011 - accuracy: 0.1282 - val_loss: 2.3006 - val_accuracy: 0.1237\n",
            "Epoch 3/10\n",
            "23/23 [==============================] - 20s 822ms/step - loss: 2.3004 - accuracy: 0.1298 - val_loss: 2.2997 - val_accuracy: 0.1237\n",
            "Epoch 4/10\n",
            "23/23 [==============================] - 20s 820ms/step - loss: 2.2997 - accuracy: 0.1232 - val_loss: 2.2988 - val_accuracy: 0.1237\n",
            "Epoch 5/10\n",
            "23/23 [==============================] - 20s 830ms/step - loss: 2.2984 - accuracy: 0.1151 - val_loss: 2.2980 - val_accuracy: 0.1314\n",
            "Epoch 6/10\n",
            "23/23 [==============================] - 20s 822ms/step - loss: 2.2984 - accuracy: 0.1270 - val_loss: 2.2972 - val_accuracy: 0.1314\n",
            "Epoch 7/10\n",
            "23/23 [==============================] - 20s 836ms/step - loss: 2.2987 - accuracy: 0.1250 - val_loss: 2.2964 - val_accuracy: 0.1314\n",
            "Epoch 8/10\n",
            "23/23 [==============================] - 20s 836ms/step - loss: 2.2955 - accuracy: 0.1219 - val_loss: 2.2957 - val_accuracy: 0.1314\n",
            "Epoch 9/10\n",
            "23/23 [==============================] - 20s 826ms/step - loss: 2.2972 - accuracy: 0.1176 - val_loss: 2.2951 - val_accuracy: 0.1314\n",
            "Epoch 10/10\n",
            "23/23 [==============================] - 20s 831ms/step - loss: 2.2948 - accuracy: 0.1272 - val_loss: 2.2945 - val_accuracy: 0.1314\n"
          ],
          "name": "stdout"
        },
        {
          "output_type": "stream",
          "text": [
            "/usr/local/lib/python3.7/dist-packages/tensorflow/python/keras/engine/training.py:1877: UserWarning: `Model.evaluate_generator` is deprecated and will be removed in a future version. Please use `Model.evaluate`, which supports generators.\n",
            "  warnings.warn('`Model.evaluate_generator` is deprecated and '\n"
          ],
          "name": "stderr"
        },
        {
          "output_type": "stream",
          "text": [
            "loss= 2.2944931983947754\n",
            "acc= 0.13144329190254211\n"
          ],
          "name": "stdout"
        },
        {
          "output_type": "stream",
          "text": [
            "/usr/local/lib/python3.7/dist-packages/tensorflow/python/keras/engine/training.py:1905: UserWarning: `Model.predict_generator` is deprecated and will be removed in a future version. Please use `Model.predict`, which supports generators.\n",
            "  warnings.warn('`Model.predict_generator` is deprecated and '\n"
          ],
          "name": "stderr"
        },
        {
          "output_type": "stream",
          "text": [
            "predicted category index = 2\n",
            "predicted category name = n02085936-Maltese_dog\n"
          ],
          "name": "stdout"
        }
      ]
    }
  ]
}