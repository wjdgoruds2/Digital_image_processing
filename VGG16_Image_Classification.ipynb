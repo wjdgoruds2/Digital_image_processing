{
  "nbformat": 4,
  "nbformat_minor": 0,
  "metadata": {
    "colab": {
      "name": "MNISTdata.ipynb",
      "provenance": [],
      "authorship_tag": "ABX9TyNnf0/Ef1KWq7c8rO9L6gYD",
      "include_colab_link": true
    },
    "kernelspec": {
      "name": "python3",
      "display_name": "Python 3"
    },
    "language_info": {
      "name": "python"
    },
    "accelerator": "GPU"
  },
  "cells": [
    {
      "cell_type": "markdown",
      "metadata": {
        "id": "view-in-github",
        "colab_type": "text"
      },
      "source": [
        "<a href=\"https://colab.research.google.com/github/wjdgoruds2/Digital_image_processing/blob/main/VGG16_Image_Classification.ipynb\" target=\"_parent\"><img src=\"https://colab.research.google.com/assets/colab-badge.svg\" alt=\"Open In Colab\"/></a>"
      ]
    },
    {
      "cell_type": "code",
      "metadata": {
        "colab": {
          "base_uri": "https://localhost:8080/"
        },
        "id": "wNAIzdBvMWWA",
        "outputId": "349ed460-5787-4b6b-bb55-da9f812f84bb"
      },
      "source": [
        "import os\n",
        "\n",
        "import matplotlib.pyplot as plt\n",
        "import numpy as np\n",
        "\n",
        "from tensorflow.keras import optimizers\n",
        "from tensorflow.keras import models\n",
        "from tensorflow.keras import layers\n",
        "from tensorflow.keras import optimizers\n",
        "from tensorflow.keras.models import Sequential\n",
        "from tensorflow.keras.layers import Dropout, Flatten, Dense\n",
        "from tensorflow.keras.models import Model\n",
        "from tensorflow.keras.preprocessing.image import ImageDataGenerator\n",
        "from tensorflow.keras.preprocessing.image import load_img\n",
        "from tensorflow.keras.preprocessing.image import img_to_array\n",
        "\n",
        "from tensorflow.keras.applications import vgg16\n",
        "from tensorflow.keras.applications import VGG16\n",
        "\n",
        "\n",
        "model = VGG16(weights='imagenet', input_shape=(224, 224, 3))\n",
        "\n",
        "test_data_generator = ImageDataGenerator(\n",
        "      preprocessing_function=vgg16.preprocess_input\n",
        ").flow_from_directory(\n",
        "      \"dogs_prepared/test\",\n",
        "      target_size=(224,224),\n",
        "      batch_size=64,      \n",
        "      class_mode='sparse'\n",
        ")\n",
        "\n",
        "y_ = model.predict_generator(\n",
        "      test_data_generator,\n",
        "      steps=test_data_generator.samples/64\n",
        ")\n",
        "\n",
        "\n",
        "\n",
        "label = vgg16.decode_predictions(y_)\n",
        "# label = [[('n02655020', 'puffer', 0.9612253), ... ]]\n",
        "print(label[:5])\n",
        "\n",
        "# 가장 확률이 높은 결과를 획득\n",
        "label = label[0][0]\n",
        "# label = ('n02655020', 'puffer', 0.9612253)\n",
        "print(label)\n",
        "\n",
        "# 라벨과 라벨을 예측한 확률을 출력\n",
        "print('%s (%.2f%%)' % (label[1], label[2]*100))    \n",
        "\n"
      ],
      "execution_count": 17,
      "outputs": [
        {
          "output_type": "stream",
          "text": [
            "Downloading data from https://storage.googleapis.com/tensorflow/keras-applications/vgg16/vgg16_weights_tf_dim_ordering_tf_kernels.h5\n",
            "553467904/553467096 [==============================] - 5s 0us/step\n",
            "Found 388 images belonging to 10 classes.\n"
          ],
          "name": "stdout"
        },
        {
          "output_type": "stream",
          "text": [
            "/usr/local/lib/python3.7/dist-packages/tensorflow/python/keras/engine/training.py:1905: UserWarning: `Model.predict_generator` is deprecated and will be removed in a future version. Please use `Model.predict`, which supports generators.\n",
            "  warnings.warn('`Model.predict_generator` is deprecated and '\n"
          ],
          "name": "stderr"
        },
        {
          "output_type": "stream",
          "text": [
            "Downloading data from https://storage.googleapis.com/download.tensorflow.org/data/imagenet_class_index.json\n",
            "40960/35363 [==================================] - 0s 0us/step\n",
            "[[('n02087046', 'toy_terrier', 0.8636345), ('n02107312', 'miniature_pinscher', 0.10568012), ('n02085620', 'Chihuahua', 0.01902842), ('n02105412', 'kelpie', 0.0032179616), ('n02110806', 'basenji', 0.0028046018)], [('n02085782', 'Japanese_spaniel', 0.9996013), ('n02086910', 'papillon', 0.0002577446), ('n02086079', 'Pekinese', 5.3028303e-05), ('n02086646', 'Blenheim_spaniel', 4.228192e-05), ('n02086240', 'Shih-Tzu', 2.9861496e-05)], [('n02107574', 'Greater_Swiss_Mountain_dog', 0.102371655), ('n02088466', 'bloodhound', 0.06767492), ('n04462240', 'toyshop', 0.059768748), ('n02108000', 'EntleBucher', 0.056613147), ('n02088238', 'basset', 0.027585719)], [('n02086910', 'papillon', 0.8815665), ('n02105855', 'Shetland_sheepdog', 0.080223955), ('n02112018', 'Pomeranian', 0.014803247), ('n02106030', 'collie', 0.014077052), ('n02085782', 'Japanese_spaniel', 0.0031710798)], [('n04251144', 'snorkel', 0.376171), ('n02088364', 'beagle', 0.1205364), ('n02085620', 'Chihuahua', 0.033511836), ('n10565667', 'scuba_diver', 0.028117431), ('n02909870', 'bucket', 0.025406998)]]\n",
            "('n02087046', 'toy_terrier', 0.8636345)\n",
            "toy_terrier (86.36%)\n"
          ],
          "name": "stdout"
        }
      ]
    }
  ]
}