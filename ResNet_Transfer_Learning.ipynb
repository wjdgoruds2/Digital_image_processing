{
  "nbformat": 4,
  "nbformat_minor": 0,
  "metadata": {
    "colab": {
      "name": "MNISTdata.ipynb",
      "provenance": [],
      "authorship_tag": "ABX9TyPxX+47s6Mr8coaR+nFB9pj",
      "include_colab_link": true
    },
    "kernelspec": {
      "name": "python3",
      "display_name": "Python 3"
    },
    "language_info": {
      "name": "python"
    },
    "accelerator": "GPU"
  },
  "cells": [
    {
      "cell_type": "markdown",
      "metadata": {
        "id": "view-in-github",
        "colab_type": "text"
      },
      "source": [
        "<a href=\"https://colab.research.google.com/github/wjdgoruds2/Digital_image_processing/blob/main/ResNet_Transfer_Learning.ipynb\" target=\"_parent\"><img src=\"https://colab.research.google.com/assets/colab-badge.svg\" alt=\"Open In Colab\"/></a>"
      ]
    },
    {
      "cell_type": "code",
      "metadata": {
        "colab": {
          "base_uri": "https://localhost:8080/"
        },
        "id": "y4Eb1JEOOa-Y",
        "outputId": "ac428403-3f12-497b-b411-0d5f2383f55a"
      },
      "source": [
        "import os\n",
        "\n",
        "import matplotlib.pyplot as plt\n",
        "import numpy as np\n",
        "\n",
        "from tensorflow.keras import optimizers\n",
        "from tensorflow.keras import models\n",
        "from tensorflow.keras import layers\n",
        "from tensorflow.keras import optimizers\n",
        "from tensorflow.keras.models import Sequential\n",
        "from tensorflow.keras.layers import Dropout, Flatten, Dense\n",
        "from tensorflow.keras.models import Model\n",
        "from tensorflow.keras.preprocessing.image import ImageDataGenerator\n",
        "from tensorflow.keras.preprocessing.image import load_img\n",
        "from tensorflow.keras.preprocessing.image import img_to_array\n",
        "\n",
        "# from tensorflow.keras.applications import vgg16\n",
        "# from tensorflow.keras.applications import VGG16\n",
        "from tensorflow.keras.applications import resnet50\n",
        "from tensorflow.keras.applications import ResNet50\n",
        "\n",
        "\n",
        "# conv_layers = VGG16(weights='imagenet', include_top=False, input_shape=(224, 224, 3))\n",
        "conv_layers = ResNet50(weights='imagenet', include_top=False, input_shape=(224, 224, 3))\n",
        "conv_layers.trainable = False\n",
        "\n",
        "model = models.Sequential()\n",
        "\n",
        "model.add(conv_layers)\n",
        "model.add(layers.Flatten())\n",
        "model.add(layers.Dense(1024, activation='relu'))\n",
        "model.add(layers.Dropout(0.5))\n",
        "model.add(layers.Dense(10, activation='softmax'))\n",
        "\n",
        "model.compile(loss='sparse_categorical_crossentropy', optimizer=\"RMSprop\", metrics=['acc'])\n",
        "\n",
        "BATCH_SIZE = 64\n",
        "\n",
        "train_data_generator = ImageDataGenerator(\n",
        "      rotation_range=10,\n",
        "      width_shift_range=0.1,\n",
        "      height_shift_range=0.1,\n",
        "      horizontal_flip=True,\n",
        "      vertical_flip=False,\n",
        "#       preprocessing_function=vgg16.preprocess_input\n",
        "      preprocessing_function=resnet50.preprocess_input\n",
        ").flow_from_directory(\n",
        "      \"dogs_prepared/train\",\n",
        "      target_size=(224,224),\n",
        "      batch_size=BATCH_SIZE,\n",
        "      class_mode='sparse'\n",
        ")\n",
        "\n",
        "test_data_generator = ImageDataGenerator(\n",
        "#       preprocessing_function=vgg16.preprocess_input\n",
        "      preprocessing_function=resnet50.preprocess_input\n",
        ").flow_from_directory(\n",
        "      \"dogs_prepared/test\",\n",
        "      target_size=(224,224),\n",
        "      batch_size=BATCH_SIZE,\n",
        "      class_mode='sparse'\n",
        ")\n",
        "\n",
        "\n",
        "model.fit_generator(\n",
        "      train_data_generator,\n",
        "      validation_data=test_data_generator,\n",
        "      steps_per_epoch=train_data_generator.samples/BATCH_SIZE,  \n",
        "      validation_steps=test_data_generator.samples/BATCH_SIZE,      \n",
        "      epochs=10\n",
        ")\n",
        "\n",
        "loss, acc = model.evaluate_generator(\n",
        "      test_data_generator,\n",
        "      steps=test_data_generator.samples/BATCH_SIZE\n",
        ")\n",
        "print(\"loss=\", loss)\n",
        "print(\"acc=\", acc)\n",
        "\n",
        "y_ = model.predict_generator(\n",
        "      test_data_generator,\n",
        "      steps=test_data_generator.samples/BATCH_SIZE\n",
        ")\n",
        "\n",
        "custom_labels = list(test_data_generator.class_indices.keys())\n",
        "predicted = np.argmax(y_, axis=1)\n",
        "print(predicted[0], custom_labels[predicted[0]])\n"
      ],
      "execution_count": 19,
      "outputs": [
        {
          "output_type": "stream",
          "text": [
            "Downloading data from https://storage.googleapis.com/tensorflow/keras-applications/resnet/resnet50_weights_tf_dim_ordering_tf_kernels_notop.h5\n",
            "94773248/94765736 [==============================] - 1s 0us/step\n",
            "Found 1531 images belonging to 10 classes.\n",
            "Found 388 images belonging to 10 classes.\n"
          ],
          "name": "stdout"
        },
        {
          "output_type": "stream",
          "text": [
            "/usr/local/lib/python3.7/dist-packages/tensorflow/python/keras/engine/training.py:1844: UserWarning: `Model.fit_generator` is deprecated and will be removed in a future version. Please use `Model.fit`, which supports generators.\n",
            "  warnings.warn('`Model.fit_generator` is deprecated and '\n"
          ],
          "name": "stderr"
        },
        {
          "output_type": "stream",
          "text": [
            "Epoch 1/10\n",
            "23/23 [==============================] - 27s 966ms/step - loss: 101.3422 - acc: 0.4245 - val_loss: 5.7641 - val_acc: 0.8582\n",
            "Epoch 2/10\n",
            "23/23 [==============================] - 22s 917ms/step - loss: 6.7538 - acc: 0.8346 - val_loss: 3.2912 - val_acc: 0.8943\n",
            "Epoch 3/10\n",
            "23/23 [==============================] - 22s 921ms/step - loss: 3.5396 - acc: 0.8621 - val_loss: 7.7822 - val_acc: 0.8247\n",
            "Epoch 4/10\n",
            "23/23 [==============================] - 22s 917ms/step - loss: 3.9184 - acc: 0.8577 - val_loss: 3.3455 - val_acc: 0.8840\n",
            "Epoch 5/10\n",
            "23/23 [==============================] - 22s 917ms/step - loss: 2.3311 - acc: 0.8861 - val_loss: 2.5115 - val_acc: 0.8995\n",
            "Epoch 6/10\n",
            "23/23 [==============================] - 22s 921ms/step - loss: 1.7032 - acc: 0.9175 - val_loss: 2.2679 - val_acc: 0.9021\n",
            "Epoch 7/10\n",
            "23/23 [==============================] - 22s 919ms/step - loss: 2.1597 - acc: 0.9023 - val_loss: 3.1365 - val_acc: 0.9149\n",
            "Epoch 8/10\n",
            "23/23 [==============================] - 22s 915ms/step - loss: 1.9530 - acc: 0.9180 - val_loss: 2.8141 - val_acc: 0.9046\n",
            "Epoch 9/10\n",
            "23/23 [==============================] - 22s 920ms/step - loss: 1.5719 - acc: 0.9152 - val_loss: 3.7869 - val_acc: 0.8918\n",
            "Epoch 10/10\n",
            "23/23 [==============================] - 22s 919ms/step - loss: 2.1083 - acc: 0.9137 - val_loss: 3.2853 - val_acc: 0.9149\n"
          ],
          "name": "stdout"
        },
        {
          "output_type": "stream",
          "text": [
            "/usr/local/lib/python3.7/dist-packages/tensorflow/python/keras/engine/training.py:1877: UserWarning: `Model.evaluate_generator` is deprecated and will be removed in a future version. Please use `Model.evaluate`, which supports generators.\n",
            "  warnings.warn('`Model.evaluate_generator` is deprecated and '\n"
          ],
          "name": "stderr"
        },
        {
          "output_type": "stream",
          "text": [
            "loss= 3.2853147983551025\n",
            "acc= 0.9149484634399414\n"
          ],
          "name": "stdout"
        },
        {
          "output_type": "stream",
          "text": [
            "/usr/local/lib/python3.7/dist-packages/tensorflow/python/keras/engine/training.py:1905: UserWarning: `Model.predict_generator` is deprecated and will be removed in a future version. Please use `Model.predict`, which supports generators.\n",
            "  warnings.warn('`Model.predict_generator` is deprecated and '\n"
          ],
          "name": "stderr"
        },
        {
          "output_type": "stream",
          "text": [
            "6 n02086910-papillon\n"
          ],
          "name": "stdout"
        }
      ]
    }
  ]
}