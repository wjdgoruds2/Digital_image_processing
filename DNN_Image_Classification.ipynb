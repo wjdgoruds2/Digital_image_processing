{
  "nbformat": 4,
  "nbformat_minor": 0,
  "metadata": {
    "colab": {
      "name": "MNISTdata.ipynb",
      "provenance": [],
      "authorship_tag": "ABX9TyMVdV857uRbFdwDAQ2OXBmi",
      "include_colab_link": true
    },
    "kernelspec": {
      "name": "python3",
      "display_name": "Python 3"
    },
    "language_info": {
      "name": "python"
    },
    "accelerator": "GPU"
  },
  "cells": [
    {
      "cell_type": "markdown",
      "metadata": {
        "id": "view-in-github",
        "colab_type": "text"
      },
      "source": [
        "<a href=\"https://colab.research.google.com/github/wjdgoruds2/Digital_image_processing/blob/main/DNN_Image_Classification.ipynb\" target=\"_parent\"><img src=\"https://colab.research.google.com/assets/colab-badge.svg\" alt=\"Open In Colab\"/></a>"
      ]
    },
    {
      "cell_type": "code",
      "metadata": {
        "colab": {
          "base_uri": "https://localhost:8080/"
        },
        "id": "m-8VHD7gDkso",
        "outputId": "59342f91-a0a2-4ba4-b3c8-e15252cb71da"
      },
      "source": [
        "import numpy as np\n",
        "import matplotlib.pyplot as plt\n",
        "\n",
        "import tensorflow as tf\n",
        "from tensorflow import keras\n",
        "from tensorflow.keras import optimizers\n",
        "from tensorflow.keras.layers import Dense, Input, Flatten\n",
        "\n",
        "import time\n",
        "\n",
        "\n",
        "(train_x, train_y), (test_x, test_y) = tf.keras.datasets.mnist.load_data()\n",
        "\n",
        "train_x = train_x/255\n",
        "test_x = test_x/255\n",
        "\n",
        "#DNN의 구조\n",
        "model = keras.Sequential()\n",
        "model.add(Flatten(input_shape=(28, 28)))#입력 28*28데이터\n",
        "model.add(Dense(10, activation='relu'))#노드10개\n",
        "model.add(Dense(10, activation='relu'))#노드 10개\n",
        "model.add(Dense(10, activation='softmax'))#출력층\n",
        "\n",
        "model.compile(optimizer=\"adam\", loss=\"sparse_categorical_crossentropy\", metrics=[\"accuracy\"])#optimizer:어떻게 업데이트할지,loss:(crossentropy)->예상과 출력이 비슷할 경우만,metrics:지표\n",
        "model.summary()#모델의 구조를 보여줌\n",
        "\n",
        "\n",
        "model.fit(train_x, train_y, epochs=5, verbose=1, batch_size=128)#입력,출력,5번 반복,차원,한번에 128개씩->학습\n",
        "\n",
        "\n",
        "loss, acc = model.evaluate(test_x, test_y)#모델 평가\n",
        "print(\"loss=\",loss)#차이(작아지도록 학습)\n",
        "print(\"acc=\",acc)#정확도(커지도록 학습)\n",
        "\n",
        "y_ = model.predict(test_x)\n",
        "predicted = np.argmax(y_, axis=1)\n",
        "\n",
        "print(predicted)\n"
      ],
      "execution_count": 11,
      "outputs": [
        {
          "output_type": "stream",
          "text": [
            "Model: \"sequential\"\n",
            "_________________________________________________________________\n",
            "Layer (type)                 Output Shape              Param #   \n",
            "=================================================================\n",
            "flatten (Flatten)            (None, 784)               0         \n",
            "_________________________________________________________________\n",
            "dense (Dense)                (None, 10)                7850      \n",
            "_________________________________________________________________\n",
            "dense_1 (Dense)              (None, 10)                110       \n",
            "_________________________________________________________________\n",
            "dense_2 (Dense)              (None, 10)                110       \n",
            "=================================================================\n",
            "Total params: 8,070\n",
            "Trainable params: 8,070\n",
            "Non-trainable params: 0\n",
            "_________________________________________________________________\n",
            "Epoch 1/5\n",
            "469/469 [==============================] - 4s 2ms/step - loss: 1.3426 - accuracy: 0.5495\n",
            "Epoch 2/5\n",
            "469/469 [==============================] - 1s 2ms/step - loss: 0.4096 - accuracy: 0.8791\n",
            "Epoch 3/5\n",
            "469/469 [==============================] - 1s 2ms/step - loss: 0.3376 - accuracy: 0.9036\n",
            "Epoch 4/5\n",
            "469/469 [==============================] - 1s 2ms/step - loss: 0.3101 - accuracy: 0.9119\n",
            "Epoch 5/5\n",
            "469/469 [==============================] - 1s 2ms/step - loss: 0.2901 - accuracy: 0.9182\n",
            "313/313 [==============================] - 1s 2ms/step - loss: 0.2833 - accuracy: 0.9170\n",
            "loss= 0.2832694947719574\n",
            "acc= 0.9169999957084656\n",
            "[7 2 1 ... 4 5 6]\n"
          ],
          "name": "stdout"
        }
      ]
    },
    {
      "cell_type": "code",
      "metadata": {
        "colab": {
          "base_uri": "https://localhost:8080/",
          "height": 334
        },
        "id": "d6TqMqxIDnA6",
        "outputId": "4bf2f632-ca78-4085-a7f9-efcbc399fd1d"
      },
      "source": [
        "y_=model.predict(test_x)\n",
        "print(y_.shape)\n",
        "print(y_[0])\n",
        "plt.imshow(test_x[0])\n",
        "plt.show()\n",
        "\n",
        "predicted=np.argmax(y_,axis=1)\n",
        "print(predicted)"
      ],
      "execution_count": 12,
      "outputs": [
        {
          "output_type": "stream",
          "text": [
            "(10000, 10)\n",
            "[9.6596265e-04 8.2819124e-06 8.2122875e-05 1.0435039e-03 9.2752209e-08\n",
            " 7.5052103e-06 3.3392784e-09 9.9772364e-01 2.9253428e-05 1.3969358e-04]\n"
          ],
          "name": "stdout"
        },
        {
          "output_type": "display_data",
          "data": {
            "image/png": "[encoded data removed]",
            "text/plain": [
              "<Figure size 432x288 with 1 Axes>"
            ]
          },
          "metadata": {
            "tags": [],
            "needs_background": "light"
          }
        },
        {
          "output_type": "stream",
          "text": [
            "[7 2 1 ... 4 5 6]\n"
          ],
          "name": "stdout"
        }
      ]
    }
  ]
}